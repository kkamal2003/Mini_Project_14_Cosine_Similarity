{
  "nbformat": 4,
  "nbformat_minor": 0,
  "metadata": {
    "colab": {
      "provenance": [],
      "authorship_tag": "ABX9TyOn9F9+BZetXf0Kt2JzPI9/",
      "include_colab_link": true
    },
    "kernelspec": {
      "name": "python3",
      "display_name": "Python 3"
    },
    "language_info": {
      "name": "python"
    }
  },
  "cells": [
    {
      "cell_type": "markdown",
      "metadata": {
        "id": "view-in-github",
        "colab_type": "text"
      },
      "source": [
        "<a href=\"https://colab.research.google.com/github/kkamal2003/Mini_Project_14_Cosine_Similarity/blob/main/Mini_Project_14_Cosine_Similarity.ipynb\" target=\"_parent\"><img src=\"https://colab.research.google.com/assets/colab-badge.svg\" alt=\"Open In Colab\"/></a>"
      ]
    },
    {
      "cell_type": "markdown",
      "source": [
        "Cosine similarity is a metric used to measure the similarity between two vectors. In the context of text analysis, it is often used to compare the similarity between documents based on their content. The cosine similarity score ranges between 0 and 1, where 0 indicates no similarity and 1 indicates identical similarity."
      ],
      "metadata": {
        "id": "Kj9zIa2wyO89"
      }
    },
    {
      "cell_type": "code",
      "execution_count": null,
      "metadata": {
        "colab": {
          "base_uri": "https://localhost:8080/"
        },
        "id": "7op4FVbMv2Im",
        "outputId": "6426d041-ecb2-4041-bac6-94361c7fd6ef"
      },
      "outputs": [
        {
          "output_type": "stream",
          "name": "stdout",
          "text": [
            "Similarity data:\n",
            " ('Arthur.txt', 'Ben.txt', 0.49793145667331107)\n"
          ]
        }
      ],
      "source": [
        "import os\n",
        "from sklearn.feature_extraction.text import TfidfVectorizer\n",
        "from sklearn.metrics.pairwise import cosine_similarity\n",
        "\n",
        "# Get the list of text files in the current directory\n",
        "files = [doc for doc in os.listdir() if doc.endswith('.txt')]\n",
        "\n",
        "# Read the content of each text file\n",
        "notes = []\n",
        "for file in files:\n",
        "    with open(file, 'r', encoding='utf-8') as f:\n",
        "        notes.append(f.read())\n",
        "\n",
        "# Vectorize the notes using TF-IDF\n",
        "vectorizer = TfidfVectorizer()\n",
        "vectors = vectorizer.fit_transform(notes).toarray()\n",
        "\n",
        "# Pair each file with its corresponding vector\n",
        "file_vectors = list(zip(files, vectors))\n",
        "\n",
        "# Set to store plagiarism results\n",
        "result = set()\n",
        "\n",
        "# Function to calculate similarity using cosine similarity\n",
        "def similarity(doc1, doc2):\n",
        "    return cosine_similarity([doc1, doc2])[0][1]\n",
        "\n",
        "# Check plagiarism among the notes\n",
        "def check_plagiarism():\n",
        "    global file_vectors\n",
        "    for file_a, vector_a in file_vectors:\n",
        "        new_vectors = file_vectors.copy()\n",
        "        current_index = new_vectors.index((file_a, vector_a))\n",
        "        del new_vectors[current_index]\n",
        "        for file_b, vector_b in new_vectors:\n",
        "            sim_score = similarity(vector_a, vector_b)\n",
        "            file_pair = sorted((file_a, file_b))\n",
        "            score = (file_pair[0], file_pair[1], sim_score)\n",
        "            result.add(score)\n",
        "    return result\n",
        "\n",
        "# Print the plagiarism results\n",
        "for data in check_plagiarism():\n",
        "    print(\"Similarity data:\\n\", data)\n"
      ]
    }
  ]
}